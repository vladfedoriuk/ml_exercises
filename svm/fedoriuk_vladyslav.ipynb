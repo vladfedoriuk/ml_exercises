{
 "cells": [
  {
   "cell_type": "markdown",
   "metadata": {},
   "source": [
    "# Exercises\n",
    "\n",
    "In this section we have two exercises:\n",
    "1. Implement the polynomial kernel.\n",
    "2. Implement the multiclass C-SVM."
   ]
  },
  {
   "cell_type": "markdown",
   "metadata": {},
   "source": [
    "## Polynomial kernel\n",
    "\n",
    "You need to extend the ``build_kernel`` function and implement the polynomial kernel if the ``kernel_type`` is set to 'poly'. The equation that needs to be implemented:\n",
    "\\begin{equation}\n",
    "K=(X^{T}*Y)^{d}.\n",
    "\\end{equation}"
   ]
  },
  {
   "cell_type": "code",
   "execution_count": 16,
   "metadata": {},
   "outputs": [
    {
     "name": "stdout",
     "output_type": "stream",
     "text": [
      "(150, 4)\n"
     ]
    }
   ],
   "source": [
    "from sklearn.datasets import load_iris\n",
    "from sklearn.model_selection import train_test_split\n",
    "import cvxopt\n",
    "import numpy as np\n",
    "\n",
    "iris = load_iris()\n",
    "data_set = iris.data\n",
    "labels = iris.target  \n",
    "print(np.asarray(data_set).shape)"
   ]
  },
  {
   "cell_type": "code",
   "execution_count": 32,
   "metadata": {},
   "outputs": [],
   "source": [
    "def build_kernel(data_set, kernel_type='linear', degree=2):\n",
    "    kernel = np.dot(data_set, data_set.T)\n",
    "    if kernel_type == 'rbf':\n",
    "        sigma = 1.0\n",
    "        objects_count = len(data_set)\n",
    "        b = np.ones((len(data_set), 1))\n",
    "        kernel -= 0.5 * (np.dot((np.diag(kernel)*np.ones((1, objects_count))).T, b.T)\n",
    "                         + np.dot(b, (np.diag(kernel) * np.ones((1, objects_count))).T.T))\n",
    "        kernel = np.exp(kernel / (2. * sigma ** 2))\n",
    "    elif kernel_type == 'poly':\n",
    "        kernel = np.linalg.matrix_power(kernel, degree)\n",
    "    return kernel"
   ]
  },
  {
   "cell_type": "code",
   "execution_count": 33,
   "metadata": {},
   "outputs": [
    {
     "data": {
      "text/plain": [
       "array([[229382.4603, 169340.9093, 194767.5298, ..., 201990.1791,\n",
       "        171105.3501, 250841.2972],\n",
       "       [169340.9093, 125642.4972, 144493.9497, ..., 149901.869 ,\n",
       "        126973.778 , 184985.3786],\n",
       "       [194767.5298, 144493.9497, 166174.3575, ..., 172392.2437,\n",
       "        146024.6959, 212765.6728],\n",
       "       ...,\n",
       "       [201990.1791, 149901.869 , 172392.2437, ..., 178847.5088,\n",
       "        151491.2048, 220639.497 ],\n",
       "       [171105.3501, 126973.778 , 146024.6959, ..., 151491.2048,\n",
       "        128320.1897, 186906.204 ],\n",
       "       [250841.2972, 184985.3786, 212765.6728, ..., 220639.497 ,\n",
       "        186906.204 , 274370.3014]])"
      ]
     },
     "execution_count": 33,
     "metadata": {},
     "output_type": "execute_result"
    }
   ],
   "source": [
    "build_kernel(train_data_set, kernel_type='poly', degree=2)"
   ]
  },
  {
   "cell_type": "code",
   "execution_count": 34,
   "metadata": {},
   "outputs": [
    {
     "data": {
      "text/plain": [
       "array([[58.83, 41.31, 47.53, ..., 49.19, 41.63, 64.95],\n",
       "       [41.31, 33.06, 37.97, ..., 39.56, 33.5 , 44.38],\n",
       "       [47.53, 37.97, 43.65, ..., 45.39, 38.52, 51.15],\n",
       "       ...,\n",
       "       [49.19, 39.56, 45.39, ..., 47.42, 40.04, 52.7 ],\n",
       "       [41.63, 33.5 , 38.52, ..., 40.04, 34.01, 44.75],\n",
       "       [64.95, 44.38, 51.15, ..., 52.7 , 44.75, 72.2 ]])"
      ]
     },
     "execution_count": 34,
     "metadata": {},
     "output_type": "execute_result"
    }
   ],
   "source": [
    "build_kernel(train_data_set, kernel_type='poly', degree=1)"
   ]
  },
  {
   "cell_type": "markdown",
   "metadata": {},
   "source": [
    "## Implement a multiclass C-SVM\n",
    "\n",
    "Use the classification method that we used in notebook 7.3 and IRIS dataset to build a multiclass C-SVM classifier. Most implementation is about a function that will return the proper data set that need to be used for the prediction. You need to implement:\n",
    "- ``choose_set_for_label``\n",
    "- ``get_labels_count``"
   ]
  },
  {
   "cell_type": "code",
   "execution_count": 35,
   "metadata": {},
   "outputs": [],
   "source": [
    "def choose_set_for_label(data_set, labels):   \n",
    "    N = len(np.unique(labels))\n",
    "    combinations = []\n",
    "    for i in range(N):\n",
    "        for j in range(N):\n",
    "            if i!=j and i<=j:\n",
    "                x = np.concatenate(\n",
    "                    [\n",
    "                        data_set[labels==i],\n",
    "                        data_set[labels==j]\n",
    "                    ], axis = 0\n",
    "                )\n",
    "                y = np.concatenate(\n",
    "                    [\n",
    "                        np.ones(len(data_set[labels==i])),\n",
    "                        np.ones(len(data_set[labels==j])) * (-1)\n",
    "                    ], axis = 0\n",
    "                )\n",
    "                \n",
    "                combinations.append(train_test_split(x, y, test_size=0.2, random_state=15))\n",
    "    return combinations\n",
    "\n",
    "combinations = choose_set_for_label(data_set, labels)"
   ]
  },
  {
   "cell_type": "code",
   "execution_count": 36,
   "metadata": {},
   "outputs": [],
   "source": [
    "def get_labels_count(labels):\n",
    "    return len(np.unique(labels))"
   ]
  },
  {
   "cell_type": "code",
   "execution_count": 37,
   "metadata": {},
   "outputs": [],
   "source": [
    "# Use the code that we have implemented earlier:"
   ]
  },
  {
   "cell_type": "code",
   "execution_count": 38,
   "metadata": {},
   "outputs": [],
   "source": [
    "def train(train_data_set, train_labels, kernel_type='linear', C=10, threshold=1e-5):\n",
    "    kernel = build_kernel(train_data_set, kernel_type=kernel_type)\n",
    "\n",
    "    P = train_labels * train_labels.transpose() * kernel\n",
    "    q = -np.ones((objects_count, 1))\n",
    "    G = np.concatenate((np.eye(objects_count), -np.eye(objects_count)))\n",
    "    h = np.concatenate((C * np.ones((objects_count, 1)), np.zeros((objects_count, 1))))\n",
    "\n",
    "    A = train_labels.reshape(1, objects_count)\n",
    "    A = A.astype(float)\n",
    "    b = 0.0\n",
    "\n",
    "    sol = cvxopt.solvers.qp(cvxopt.matrix(P), cvxopt.matrix(q), cvxopt.matrix(G), cvxopt.matrix(h), cvxopt.matrix(A), cvxopt.matrix(b))\n",
    "\n",
    "    lambdas = np.array(sol['x'])\n",
    "\n",
    "    support_vectors_id = np.where(lambdas > threshold)[0]\n",
    "    vector_number = len(support_vectors_id)\n",
    "    support_vectors = train_data_set[support_vectors_id, :]\n",
    "\n",
    "    lambdas = lambdas[support_vectors_id]\n",
    "    targets = train_labels[support_vectors_id]\n",
    "\n",
    "    b = np.sum(targets)\n",
    "    for n in range(vector_number):\n",
    "        b -= np.sum(lambdas * targets * np.reshape(kernel[support_vectors_id[n], support_vectors_id], (vector_number, 1)))\n",
    "    b /= len(lambdas)\n",
    "\n",
    "    return lambdas, support_vectors, support_vectors_id, b, targets, vector_number\n",
    "\n",
    "def build_kernel(data_set, kernel_type='linear'):\n",
    "    kernel = np.dot(data_set, data_set.T)\n",
    "    if kernel_type == 'rbf':\n",
    "        sigma = 1.0\n",
    "        objects_count = len(data_set)\n",
    "        b = np.ones((len(data_set), 1))\n",
    "        kernel -= 0.5 * (np.dot((np.diag(kernel)*np.ones((1, objects_count))).T, b.T)\n",
    "                         + np.dot(b, (np.diag(kernel) * np.ones((1, objects_count))).T.T))\n",
    "        kernel = np.exp(kernel / (2. * sigma ** 2))\n",
    "    return kernel\n",
    "\n",
    "def classify_rbf(test_data_set, train_data_set, lambdas, targets, b, vector_number, support_vectors, support_vectors_id):\n",
    "    kernel = np.dot(test_data_set, support_vectors.T)\n",
    "    sigma = 1.0\n",
    "    #K = np.dot(test_data_set, support_vectors.T)\n",
    "    #kernel = build_kernel(train_data_set, kernel_type='rbf')\n",
    "    c = (1. / sigma * np.sum(test_data_set ** 2, axis=1) * np.ones((1, np.shape(test_data_set)[0]))).T\n",
    "    c = np.dot(c, np.ones((1, np.shape(kernel)[1])))\n",
    "    #aa = np.dot((np.diag(K)*np.ones((1,len(test_data_set)))).T[support_vectors_id], np.ones((1, np.shape(K)[0]))).T\n",
    "    sv = (np.diag(np.dot(train_data_set, train_data_set.T))*np.ones((1,len(train_data_set)))).T[support_vectors_id]\n",
    "    aa = np.dot(sv,np.ones((1,np.shape(kernel)[0]))).T\n",
    "    kernel = kernel - 0.5 * c - 0.5 * aa\n",
    "    kernel = np.exp(kernel / (2. * sigma ** 2))\n",
    "\n",
    "    y = np.zeros((np.shape(test_data_set)[0], 1))\n",
    "    for j in range(np.shape(test_data_set)[0]):\n",
    "        for i in range(vector_number):\n",
    "            y[j] += lambdas[i] * targets[i] * kernel[j, i]\n",
    "        y[j] += b\n",
    "    return np.sign(y)"
   ]
  },
  {
   "cell_type": "code",
   "execution_count": 42,
   "metadata": {},
   "outputs": [
    {
     "name": "stdout",
     "output_type": "stream",
     "text": [
      "     pcost       dcost       gap    pres   dres\n",
      " 0:  9.6305e+01 -1.2289e+03  2e+03  2e-01  2e-15\n",
      " 1:  5.9143e+01 -1.2031e+02  2e+02  5e-03  2e-15\n",
      " 2:  7.0898e+00 -1.6497e+01  2e+01  2e-16  2e-15\n",
      " 3: -5.2057e-01 -3.7668e+00  3e+00  2e-16  1e-15\n",
      " 4: -1.1712e+00 -1.8374e+00  7e-01  2e-16  4e-16\n",
      " 5: -1.3952e+00 -1.6846e+00  3e-01  2e-16  2e-16\n",
      " 6: -1.4671e+00 -1.5679e+00  1e-01  2e-16  2e-16\n",
      " 7: -1.5060e+00 -1.5164e+00  1e-02  2e-16  2e-16\n",
      " 8: -1.5105e+00 -1.5106e+00  1e-04  2e-16  2e-16\n",
      " 9: -1.5105e+00 -1.5105e+00  1e-06  2e-16  2e-16\n",
      "Optimal solution found.\n",
      "0.15\n",
      "     pcost       dcost       gap    pres   dres\n",
      " 0:  1.0960e+02 -1.2787e+03  2e+03  1e-01  2e-15\n",
      " 1:  6.2790e+01 -1.3211e+02  2e+02  6e-03  2e-15\n",
      " 2:  7.3654e+00 -1.8102e+01  3e+01  2e-16  3e-15\n",
      " 3: -7.5515e-01 -4.2288e+00  3e+00  2e-16  9e-16\n",
      " 4: -1.4405e+00 -2.3676e+00  9e-01  1e-16  4e-16\n",
      " 5: -1.7465e+00 -2.0630e+00  3e-01  2e-16  2e-16\n",
      " 6: -1.8105e+00 -1.9114e+00  1e-01  2e-16  2e-16\n",
      " 7: -1.8438e+00 -1.8684e+00  2e-02  2e-16  2e-16\n",
      " 8: -1.8526e+00 -1.8544e+00  2e-03  2e-16  2e-16\n",
      " 9: -1.8533e+00 -1.8534e+00  3e-05  2e-16  2e-16\n",
      "10: -1.8534e+00 -1.8534e+00  3e-07  2e-16  2e-16\n",
      "Optimal solution found.\n",
      "0.55\n",
      "     pcost       dcost       gap    pres   dres\n",
      " 0:  8.4860e+01 -1.3263e+03  3e+03  2e-01  2e-15\n",
      " 1:  5.7011e+01 -1.1832e+02  2e+02  5e-03  2e-15\n",
      " 2:  7.1294e+00 -1.6018e+01  2e+01  2e-16  3e-15\n",
      " 3: -4.3414e-01 -3.6152e+00  3e+00  3e-16  1e-15\n",
      " 4: -1.1330e+00 -1.7022e+00  6e-01  2e-16  4e-16\n",
      " 5: -1.2580e+00 -1.4691e+00  2e-01  2e-16  2e-16\n",
      " 6: -1.3321e+00 -1.4470e+00  1e-01  2e-16  2e-16\n",
      " 7: -1.3584e+00 -1.3700e+00  1e-02  4e-16  2e-16\n",
      " 8: -1.3632e+00 -1.3635e+00  3e-04  3e-16  2e-16\n",
      " 9: -1.3633e+00 -1.3633e+00  5e-06  2e-16  2e-16\n",
      "10: -1.3633e+00 -1.3633e+00  5e-08  2e-16  2e-16\n",
      "Optimal solution found.\n",
      "0.55\n"
     ]
    }
   ],
   "source": [
    "# modify this part \n",
    "from sklearn.metrics import accuracy_score\n",
    "N = get_labels_count(labels)\n",
    "COMBINATIONS_NUM = N*(N-1)//2\n",
    "for i in range(COMBINATIONS_NUM):\n",
    "    X_train, X_test, y_train, y_test = combinations[i]\n",
    "    lambdas, support_vectors, support_vectors_id, b, targets, vector_number = train(\n",
    "        X_train, y_train, kernel_type='rbf')\n",
    "    predicted = classify_rbf(X_test, X_train, lambdas, targets, b, vector_number, support_vectors, support_vectors_id)\n",
    "    predicted = list(predicted.astype(int))\n",
    "    print(accuracy_score(predicted, test_labels))"
   ]
  },
  {
   "cell_type": "code",
   "execution_count": null,
   "metadata": {},
   "outputs": [],
   "source": []
  }
 ],
 "metadata": {
  "kernelspec": {
   "display_name": "Python 3",
   "language": "python",
   "name": "python3"
  },
  "language_info": {
   "codemirror_mode": {
    "name": "ipython",
    "version": 3
   },
   "file_extension": ".py",
   "mimetype": "text/x-python",
   "name": "python",
   "nbconvert_exporter": "python",
   "pygments_lexer": "ipython3",
   "version": "3.8.8"
  }
 },
 "nbformat": 4,
 "nbformat_minor": 4
}
